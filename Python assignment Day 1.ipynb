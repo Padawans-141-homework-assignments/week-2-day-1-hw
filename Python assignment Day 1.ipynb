{
 "cells": [
  {
   "cell_type": "markdown",
   "metadata": {},
   "source": [
    "# Week 2 - Monday Lesson (variable assignment, loops, lists)"
   ]
  },
  {
   "cell_type": "markdown",
   "metadata": {},
   "source": [
    "## Tasks Today:\n",
    "\n",
    "1) Int & Float assignments <br>\n",
    " &nbsp;&nbsp;&nbsp;&nbsp; a) Assigning int <br>\n",
    " &nbsp;&nbsp;&nbsp;&nbsp; b) Assigning float <br>\n",
    " &nbsp;&nbsp;&nbsp;&nbsp; c) Performing Calculations on ints and floats <br>\n",
    " &nbsp;&nbsp;&nbsp;&nbsp;&nbsp;&nbsp;&nbsp;&nbsp; - Addition <br>\n",
    " &nbsp;&nbsp;&nbsp;&nbsp;&nbsp;&nbsp;&nbsp;&nbsp; - Subtraction <br>\n",
    " &nbsp;&nbsp;&nbsp;&nbsp;&nbsp;&nbsp;&nbsp;&nbsp; - Multiplication <br>\n",
    " &nbsp;&nbsp;&nbsp;&nbsp;&nbsp;&nbsp;&nbsp;&nbsp; - Division <br>\n",
    " &nbsp;&nbsp;&nbsp;&nbsp;&nbsp;&nbsp;&nbsp;&nbsp; - Floor Division <br>\n",
    " &nbsp;&nbsp;&nbsp;&nbsp;&nbsp;&nbsp;&nbsp;&nbsp; - Modulo <br>\n",
    " &nbsp;&nbsp;&nbsp;&nbsp;&nbsp;&nbsp;&nbsp;&nbsp; - Exponential <br>\n",
    "2) String Input-Output <br>\n",
    " &nbsp;&nbsp;&nbsp;&nbsp; a) String Assignment <br>\n",
    " &nbsp;&nbsp;&nbsp;&nbsp; b) print() <br>\n",
    " &nbsp;&nbsp;&nbsp;&nbsp; c) String Concatenation <br>\n",
    " &nbsp;&nbsp;&nbsp;&nbsp; d) Type Conversion <br>\n",
    " &nbsp;&nbsp;&nbsp;&nbsp; e) input() <br>\n",
    " &nbsp;&nbsp;&nbsp;&nbsp; f) format() <br>\n",
    " &nbsp;&nbsp;&nbsp;&nbsp; g) Old Way (python 2) <br>\n",
    "3) <b>In-Class Exercise #1</b> <br>\n",
    "4) If Statements <br>\n",
    " &nbsp;&nbsp;&nbsp;&nbsp; a) 'is' keyword <br>\n",
    " &nbsp;&nbsp;&nbsp;&nbsp; b) 'in' keyword <br>\n",
    " &nbsp;&nbsp;&nbsp;&nbsp; c) 'not in' keyword <br>\n",
    "5) <b>In-Class Exercise #2</b> <br>\n",
    "6) Elif Statements <br>\n",
    "7) Else Statements <br>\n",
    "8) <b>In-Class Exercise #3</b> <br>\n",
    "9) For Loops <br>\n",
    " &nbsp;&nbsp;&nbsp;&nbsp; a) Using 'in' keyword <br>\n",
    " &nbsp;&nbsp;&nbsp;&nbsp; b) Continue Statement <br>\n",
    " &nbsp;&nbsp;&nbsp;&nbsp; c) Break Statement <br>\n",
    " &nbsp;&nbsp;&nbsp;&nbsp; d) Pass Statement <br>\n",
    " &nbsp;&nbsp;&nbsp;&nbsp; e) Double For Loops <br>\n",
    "10) While Loops <br>\n",
    " &nbsp;&nbsp;&nbsp;&nbsp; a) Looping 'While True' <br>\n",
    " &nbsp;&nbsp;&nbsp;&nbsp; b) While and For Loops Used Together <br>\n",
    "11) Built-In Functions <br>\n",
    " &nbsp;&nbsp;&nbsp;&nbsp; a) range() <br>\n",
    " &nbsp;&nbsp;&nbsp;&nbsp; b) len() <br>\n",
    " &nbsp;&nbsp;&nbsp;&nbsp; c) help() <br>\n",
    " &nbsp;&nbsp;&nbsp;&nbsp; d) isinstance() <br>\n",
    " &nbsp;&nbsp;&nbsp;&nbsp; e) abs() <br>\n",
    "12) Try and Except <br>\n",
    "13) Lists <br>\n",
    " &nbsp;&nbsp;&nbsp;&nbsp; a) Declaring Lists <br>\n",
    " &nbsp;&nbsp;&nbsp;&nbsp; b) Indexing a List <br>\n",
    " &nbsp;&nbsp;&nbsp;&nbsp; c) .append() <br>\n",
    " &nbsp;&nbsp;&nbsp;&nbsp; d) .insert() <br>\n",
    " &nbsp;&nbsp;&nbsp;&nbsp; e) .pop() <br>\n",
    " &nbsp;&nbsp;&nbsp;&nbsp; f) .remove() <br>\n",
    " &nbsp;&nbsp;&nbsp;&nbsp; g) del() <br>\n",
    " &nbsp;&nbsp;&nbsp;&nbsp; h) Concatenating Two Lists <br>\n",
    " &nbsp;&nbsp;&nbsp;&nbsp; i) Lists Within Lists <br>\n",
    " &nbsp;&nbsp;&nbsp;&nbsp; j) Looping Through Lists <br>"
   ]
  },
  {
   "cell_type": "markdown",
   "metadata": {},
   "source": [
    "### Int & Float Assignments"
   ]
  },
  {
   "cell_type": "markdown",
   "metadata": {},
   "source": [
    "##### Assigning int"
   ]
  },
  {
   "cell_type": "code",
   "execution_count": null,
   "metadata": {},
   "outputs": [],
   "source": []
  },
  {
   "cell_type": "markdown",
   "metadata": {},
   "source": [
    "##### Assinging float"
   ]
  },
  {
   "cell_type": "code",
   "execution_count": null,
   "metadata": {},
   "outputs": [],
   "source": []
  },
  {
   "cell_type": "markdown",
   "metadata": {},
   "source": [
    "#### Performing Calculations on ints and floats"
   ]
  },
  {
   "cell_type": "markdown",
   "metadata": {},
   "source": [
    "##### Addition"
   ]
  },
  {
   "cell_type": "code",
   "execution_count": null,
   "metadata": {},
   "outputs": [],
   "source": []
  },
  {
   "cell_type": "markdown",
   "metadata": {},
   "source": [
    "##### Subtraction"
   ]
  },
  {
   "cell_type": "code",
   "execution_count": null,
   "metadata": {},
   "outputs": [],
   "source": []
  },
  {
   "cell_type": "markdown",
   "metadata": {},
   "source": [
    "##### Multiplication"
   ]
  },
  {
   "cell_type": "code",
   "execution_count": null,
   "metadata": {},
   "outputs": [],
   "source": []
  },
  {
   "cell_type": "markdown",
   "metadata": {},
   "source": [
    "##### Division"
   ]
  },
  {
   "cell_type": "code",
   "execution_count": null,
   "metadata": {},
   "outputs": [],
   "source": []
  },
  {
   "cell_type": "markdown",
   "metadata": {},
   "source": [
    "##### Floor Division"
   ]
  },
  {
   "cell_type": "code",
   "execution_count": null,
   "metadata": {},
   "outputs": [],
   "source": []
  },
  {
   "cell_type": "markdown",
   "metadata": {},
   "source": [
    "##### Modulo"
   ]
  },
  {
   "cell_type": "code",
   "execution_count": null,
   "metadata": {},
   "outputs": [],
   "source": []
  },
  {
   "cell_type": "markdown",
   "metadata": {},
   "source": [
    "##### Exponential"
   ]
  },
  {
   "cell_type": "code",
   "execution_count": null,
   "metadata": {},
   "outputs": [],
   "source": []
  },
  {
   "cell_type": "markdown",
   "metadata": {},
   "source": [
    "### String Input-Output"
   ]
  },
  {
   "cell_type": "markdown",
   "metadata": {},
   "source": [
    "##### String Assignment"
   ]
  },
  {
   "cell_type": "code",
   "execution_count": null,
   "metadata": {},
   "outputs": [],
   "source": []
  },
  {
   "cell_type": "markdown",
   "metadata": {},
   "source": [
    "##### print() <br>\n",
    "<p>Don't forget about end=' '</p>"
   ]
  },
  {
   "cell_type": "code",
   "execution_count": null,
   "metadata": {},
   "outputs": [],
   "source": []
  },
  {
   "cell_type": "markdown",
   "metadata": {},
   "source": [
    "##### String Concatenation"
   ]
  },
  {
   "cell_type": "code",
   "execution_count": null,
   "metadata": {},
   "outputs": [],
   "source": []
  },
  {
   "cell_type": "markdown",
   "metadata": {},
   "source": [
    "##### Type Conversion"
   ]
  },
  {
   "cell_type": "code",
   "execution_count": null,
   "metadata": {},
   "outputs": [],
   "source": []
  },
  {
   "cell_type": "markdown",
   "metadata": {},
   "source": [
    "##### input()"
   ]
  },
  {
   "cell_type": "code",
   "execution_count": null,
   "metadata": {},
   "outputs": [],
   "source": []
  },
  {
   "cell_type": "markdown",
   "metadata": {},
   "source": [
    "##### format()"
   ]
  },
  {
   "cell_type": "code",
   "execution_count": null,
   "metadata": {},
   "outputs": [],
   "source": []
  },
  {
   "cell_type": "markdown",
   "metadata": {},
   "source": [
    "##### Old Way (python 2)"
   ]
  },
  {
   "cell_type": "code",
   "execution_count": null,
   "metadata": {},
   "outputs": [],
   "source": []
  },
  {
   "cell_type": "markdown",
   "metadata": {},
   "source": [
    "# In-Class Exercise 1 <br>\n",
    "<p>Create a format statement that asks for color, year, make, model and prints out the results</p>"
   ]
  },
  {
   "cell_type": "code",
   "execution_count": null,
   "metadata": {},
   "outputs": [],
   "source": []
  },
  {
   "cell_type": "markdown",
   "metadata": {},
   "source": [
    "### If Statements"
   ]
  },
  {
   "cell_type": "code",
   "execution_count": null,
   "metadata": {},
   "outputs": [],
   "source": [
    "# Available operators: Greater(>), Less(<),Equal(==)\n",
    "# Greater or Equal(>=), Less or Equal (<=)\n",
    "\n",
    "# Truth Tree:\n",
    "# T && F = F\n",
    "# T && T = T\n",
    "# T || F = T\n",
    "# F || T = T\n",
    "# F || F = F"
   ]
  },
  {
   "cell_type": "markdown",
   "metadata": {},
   "source": [
    "##### 'is' keyword"
   ]
  },
  {
   "cell_type": "code",
   "execution_count": null,
   "metadata": {
    "scrolled": true
   },
   "outputs": [],
   "source": []
  },
  {
   "cell_type": "markdown",
   "metadata": {},
   "source": [
    "##### 'in' keyword"
   ]
  },
  {
   "cell_type": "code",
   "execution_count": null,
   "metadata": {},
   "outputs": [],
   "source": []
  },
  {
   "cell_type": "markdown",
   "metadata": {},
   "source": [
    "##### 'not in' keyword'"
   ]
  },
  {
   "cell_type": "code",
   "execution_count": null,
   "metadata": {},
   "outputs": [],
   "source": []
  },
  {
   "cell_type": "markdown",
   "metadata": {},
   "source": [
    "# In-Class Exercise 2 <br>\n",
    "<p>Ask user for input, check to see if the letter 'p' is in the input</p>"
   ]
  },
  {
   "cell_type": "code",
   "execution_count": null,
   "metadata": {},
   "outputs": [],
   "source": []
  },
  {
   "cell_type": "markdown",
   "metadata": {},
   "source": [
    "## Using 'and'/'or' with If Statements"
   ]
  },
  {
   "cell_type": "code",
   "execution_count": null,
   "metadata": {},
   "outputs": [],
   "source": []
  },
  {
   "cell_type": "markdown",
   "metadata": {},
   "source": [
    "### Elif Statements"
   ]
  },
  {
   "cell_type": "code",
   "execution_count": null,
   "metadata": {},
   "outputs": [],
   "source": []
  },
  {
   "cell_type": "markdown",
   "metadata": {},
   "source": [
    "### Else Statements"
   ]
  },
  {
   "cell_type": "code",
   "execution_count": null,
   "metadata": {},
   "outputs": [],
   "source": [
    "# see above"
   ]
  },
  {
   "cell_type": "markdown",
   "metadata": {},
   "source": [
    "### For Loops"
   ]
  },
  {
   "cell_type": "code",
   "execution_count": null,
   "metadata": {},
   "outputs": [],
   "source": []
  },
  {
   "cell_type": "markdown",
   "metadata": {},
   "source": [
    "##### Using 'in' keyword"
   ]
  },
  {
   "cell_type": "code",
   "execution_count": null,
   "metadata": {},
   "outputs": [],
   "source": [
    "# see above"
   ]
  },
  {
   "cell_type": "markdown",
   "metadata": {},
   "source": [
    "##### Continue Statement"
   ]
  },
  {
   "cell_type": "code",
   "execution_count": null,
   "metadata": {},
   "outputs": [],
   "source": [
    "# will continue to next iteration"
   ]
  },
  {
   "cell_type": "code",
   "execution_count": null,
   "metadata": {},
   "outputs": [],
   "source": []
  },
  {
   "cell_type": "markdown",
   "metadata": {},
   "source": [
    "##### Break Statement"
   ]
  },
  {
   "cell_type": "code",
   "execution_count": null,
   "metadata": {},
   "outputs": [],
   "source": [
    "# will break out of current loop"
   ]
  },
  {
   "cell_type": "code",
   "execution_count": null,
   "metadata": {},
   "outputs": [],
   "source": []
  },
  {
   "cell_type": "markdown",
   "metadata": {},
   "source": [
    "##### Pass Statement"
   ]
  },
  {
   "cell_type": "code",
   "execution_count": null,
   "metadata": {},
   "outputs": [],
   "source": [
    "# mostly used as a placeholder, and will continue on same iteration"
   ]
  },
  {
   "cell_type": "code",
   "execution_count": null,
   "metadata": {},
   "outputs": [],
   "source": []
  },
  {
   "cell_type": "markdown",
   "metadata": {},
   "source": [
    "##### Double For Loops"
   ]
  },
  {
   "cell_type": "code",
   "execution_count": null,
   "metadata": {},
   "outputs": [],
   "source": []
  },
  {
   "cell_type": "markdown",
   "metadata": {},
   "source": [
    "### While Loops"
   ]
  },
  {
   "cell_type": "code",
   "execution_count": null,
   "metadata": {},
   "outputs": [],
   "source": []
  },
  {
   "cell_type": "markdown",
   "metadata": {},
   "source": [
    "##### Looping 'While True'"
   ]
  },
  {
   "cell_type": "code",
   "execution_count": null,
   "metadata": {},
   "outputs": [],
   "source": []
  },
  {
   "cell_type": "markdown",
   "metadata": {},
   "source": [
    "##### While & For Loops Used Together"
   ]
  },
  {
   "cell_type": "code",
   "execution_count": null,
   "metadata": {},
   "outputs": [],
   "source": []
  },
  {
   "cell_type": "markdown",
   "metadata": {},
   "source": [
    "### Built-In Functions"
   ]
  },
  {
   "cell_type": "markdown",
   "metadata": {},
   "source": [
    "##### range()"
   ]
  },
  {
   "cell_type": "code",
   "execution_count": null,
   "metadata": {},
   "outputs": [],
   "source": []
  },
  {
   "cell_type": "markdown",
   "metadata": {},
   "source": [
    "##### len()"
   ]
  },
  {
   "cell_type": "code",
   "execution_count": null,
   "metadata": {},
   "outputs": [],
   "source": []
  },
  {
   "cell_type": "markdown",
   "metadata": {},
   "source": [
    "##### help()"
   ]
  },
  {
   "cell_type": "code",
   "execution_count": null,
   "metadata": {},
   "outputs": [],
   "source": []
  },
  {
   "cell_type": "markdown",
   "metadata": {},
   "source": [
    "##### isinstance()"
   ]
  },
  {
   "cell_type": "code",
   "execution_count": null,
   "metadata": {},
   "outputs": [],
   "source": []
  },
  {
   "cell_type": "markdown",
   "metadata": {},
   "source": [
    "##### abs()"
   ]
  },
  {
   "cell_type": "code",
   "execution_count": null,
   "metadata": {},
   "outputs": [],
   "source": []
  },
  {
   "cell_type": "markdown",
   "metadata": {},
   "source": [
    "### Try and Except"
   ]
  },
  {
   "cell_type": "code",
   "execution_count": null,
   "metadata": {},
   "outputs": [],
   "source": []
  },
  {
   "cell_type": "markdown",
   "metadata": {},
   "source": [
    "### Lists"
   ]
  },
  {
   "cell_type": "markdown",
   "metadata": {},
   "source": [
    "##### Declaring Lists"
   ]
  },
  {
   "cell_type": "code",
   "execution_count": null,
   "metadata": {},
   "outputs": [],
   "source": []
  },
  {
   "cell_type": "markdown",
   "metadata": {},
   "source": [
    "##### Indexing a List"
   ]
  },
  {
   "cell_type": "code",
   "execution_count": null,
   "metadata": {},
   "outputs": [],
   "source": []
  },
  {
   "cell_type": "markdown",
   "metadata": {},
   "source": [
    "##### .append()"
   ]
  },
  {
   "cell_type": "code",
   "execution_count": null,
   "metadata": {},
   "outputs": [],
   "source": []
  },
  {
   "cell_type": "markdown",
   "metadata": {},
   "source": [
    "##### .insert()"
   ]
  },
  {
   "cell_type": "code",
   "execution_count": null,
   "metadata": {},
   "outputs": [],
   "source": []
  },
  {
   "cell_type": "markdown",
   "metadata": {},
   "source": [
    "##### .pop()"
   ]
  },
  {
   "cell_type": "code",
   "execution_count": null,
   "metadata": {},
   "outputs": [],
   "source": []
  },
  {
   "cell_type": "markdown",
   "metadata": {},
   "source": [
    "\n",
    "##### .remove()"
   ]
  },
  {
   "cell_type": "code",
   "execution_count": null,
   "metadata": {},
   "outputs": [],
   "source": []
  },
  {
   "cell_type": "markdown",
   "metadata": {},
   "source": [
    "##### del()"
   ]
  },
  {
   "cell_type": "code",
   "execution_count": null,
   "metadata": {},
   "outputs": [],
   "source": []
  },
  {
   "cell_type": "markdown",
   "metadata": {},
   "source": [
    "##### Concatenating Two Lists"
   ]
  },
  {
   "cell_type": "code",
   "execution_count": null,
   "metadata": {},
   "outputs": [],
   "source": []
  },
  {
   "cell_type": "markdown",
   "metadata": {},
   "source": [
    "##### Lists Within Lists"
   ]
  },
  {
   "cell_type": "code",
   "execution_count": null,
   "metadata": {},
   "outputs": [],
   "source": []
  },
  {
   "cell_type": "markdown",
   "metadata": {},
   "source": [
    "##### Looping Through Lists"
   ]
  },
  {
   "cell_type": "code",
   "execution_count": null,
   "metadata": {},
   "outputs": [],
   "source": []
  },
  {
   "cell_type": "markdown",
   "metadata": {},
   "source": [
    "## Exercise #1 <br>\n",
    "<p>Cube Number Test... Print out all cubed numbers up to the total value 1000. Meaning that if the cubed number is over 1000 break the loop.</p>"
   ]
  },
  {
   "cell_type": "code",
   "execution_count": 17,
   "metadata": {},
   "outputs": [
    {
     "name": "stdout",
     "output_type": "stream",
     "text": [
      "The num 0 cubed is 0.\n",
      "The num 1 cubed is 1.\n",
      "The num 2 cubed is 8.\n",
      "The num 3 cubed is 27.\n",
      "The num 4 cubed is 64.\n",
      "The num 5 cubed is 125.\n",
      "The num 6 cubed is 216.\n",
      "The num 7 cubed is 343.\n",
      "The num 8 cubed is 512.\n",
      "The num 9 cubed is 729.\n",
      "The num 10 cubed is 1000.\n",
      "The num 11 cubed is 1331.\n",
      "The current number exceeds 1000, breaking the loop.\n"
     ]
    }
   ],
   "source": [
    "for num in range(100):\n",
    "    current_num = num*num*num\n",
    "    print(f'The num {num} cubed is {current_num}.')\n",
    "    if (current_num > 1000):\n",
    "        print('The current number exceeds 1000, breaking the loop.')\n",
    "        break"
   ]
  },
  {
   "cell_type": "markdown",
   "metadata": {},
   "source": [
    "## Exercise #2 <br>\n",
    "<p>Get first prime numbers up to 100</p>"
   ]
  },
  {
   "cell_type": "code",
   "execution_count": 18,
   "metadata": {},
   "outputs": [
    {
     "name": "stdout",
     "output_type": "stream",
     "text": [
      "Is 0 a prime number?\n",
      "The number 0 is not greater than 1, therefore it isn't a prime number.\n",
      "\n",
      "Is 1 a prime number?\n",
      "The number 1 is not greater than 1, therefore it isn't a prime number.\n",
      "\n",
      "Is 2 a prime number?\n",
      "The number 2 is a prime number.\n",
      "\n",
      "Is 3 a prime number?\n",
      "The number 3 is a prime number.\n",
      "\n",
      "Is 4 a prime number?\n",
      "The number 4 is NOT a prime number.\n",
      "\n",
      "Is 5 a prime number?\n",
      "The number 5 is a prime number.\n",
      "\n",
      "Is 6 a prime number?\n",
      "The number 6 is NOT a prime number.\n",
      "\n",
      "Is 7 a prime number?\n",
      "The number 7 is a prime number.\n",
      "\n",
      "Is 8 a prime number?\n",
      "The number 8 is NOT a prime number.\n",
      "\n",
      "Is 9 a prime number?\n",
      "The number 9 is a prime number.\n",
      "\n",
      "Is 10 a prime number?\n",
      "The number 10 is NOT a prime number.\n",
      "\n",
      "Is 11 a prime number?\n",
      "The number 11 is a prime number.\n",
      "\n",
      "Is 12 a prime number?\n",
      "The number 12 is NOT a prime number.\n",
      "\n",
      "Is 13 a prime number?\n",
      "The number 13 is a prime number.\n",
      "\n",
      "Is 14 a prime number?\n",
      "The number 14 is NOT a prime number.\n",
      "\n",
      "Is 15 a prime number?\n",
      "The number 15 is a prime number.\n",
      "\n",
      "Is 16 a prime number?\n",
      "The number 16 is NOT a prime number.\n",
      "\n",
      "Is 17 a prime number?\n",
      "The number 17 is a prime number.\n",
      "\n",
      "Is 18 a prime number?\n",
      "The number 18 is NOT a prime number.\n",
      "\n",
      "Is 19 a prime number?\n",
      "The number 19 is a prime number.\n",
      "\n",
      "Is 20 a prime number?\n",
      "The number 20 is NOT a prime number.\n",
      "\n",
      "Is 21 a prime number?\n",
      "The number 21 is a prime number.\n",
      "\n",
      "Is 22 a prime number?\n",
      "The number 22 is NOT a prime number.\n",
      "\n",
      "Is 23 a prime number?\n",
      "The number 23 is a prime number.\n",
      "\n",
      "Is 24 a prime number?\n",
      "The number 24 is NOT a prime number.\n",
      "\n",
      "Is 25 a prime number?\n",
      "The number 25 is a prime number.\n",
      "\n",
      "Is 26 a prime number?\n",
      "The number 26 is NOT a prime number.\n",
      "\n",
      "Is 27 a prime number?\n",
      "The number 27 is a prime number.\n",
      "\n",
      "Is 28 a prime number?\n",
      "The number 28 is NOT a prime number.\n",
      "\n",
      "Is 29 a prime number?\n",
      "The number 29 is a prime number.\n",
      "\n",
      "Is 30 a prime number?\n",
      "The number 30 is NOT a prime number.\n",
      "\n",
      "Is 31 a prime number?\n",
      "The number 31 is a prime number.\n",
      "\n",
      "Is 32 a prime number?\n",
      "The number 32 is NOT a prime number.\n",
      "\n",
      "Is 33 a prime number?\n",
      "The number 33 is a prime number.\n",
      "\n",
      "Is 34 a prime number?\n",
      "The number 34 is NOT a prime number.\n",
      "\n",
      "Is 35 a prime number?\n",
      "The number 35 is a prime number.\n",
      "\n",
      "Is 36 a prime number?\n",
      "The number 36 is NOT a prime number.\n",
      "\n",
      "Is 37 a prime number?\n",
      "The number 37 is a prime number.\n",
      "\n",
      "Is 38 a prime number?\n",
      "The number 38 is NOT a prime number.\n",
      "\n",
      "Is 39 a prime number?\n",
      "The number 39 is a prime number.\n",
      "\n",
      "Is 40 a prime number?\n",
      "The number 40 is NOT a prime number.\n",
      "\n",
      "Is 41 a prime number?\n",
      "The number 41 is a prime number.\n",
      "\n",
      "Is 42 a prime number?\n",
      "The number 42 is NOT a prime number.\n",
      "\n",
      "Is 43 a prime number?\n",
      "The number 43 is a prime number.\n",
      "\n",
      "Is 44 a prime number?\n",
      "The number 44 is NOT a prime number.\n",
      "\n",
      "Is 45 a prime number?\n",
      "The number 45 is a prime number.\n",
      "\n",
      "Is 46 a prime number?\n",
      "The number 46 is NOT a prime number.\n",
      "\n",
      "Is 47 a prime number?\n",
      "The number 47 is a prime number.\n",
      "\n",
      "Is 48 a prime number?\n",
      "The number 48 is NOT a prime number.\n",
      "\n",
      "Is 49 a prime number?\n",
      "The number 49 is a prime number.\n",
      "\n",
      "Is 50 a prime number?\n",
      "The number 50 is NOT a prime number.\n",
      "\n",
      "Is 51 a prime number?\n",
      "The number 51 is a prime number.\n",
      "\n",
      "Is 52 a prime number?\n",
      "The number 52 is NOT a prime number.\n",
      "\n",
      "Is 53 a prime number?\n",
      "The number 53 is a prime number.\n",
      "\n",
      "Is 54 a prime number?\n",
      "The number 54 is NOT a prime number.\n",
      "\n",
      "Is 55 a prime number?\n",
      "The number 55 is a prime number.\n",
      "\n",
      "Is 56 a prime number?\n",
      "The number 56 is NOT a prime number.\n",
      "\n",
      "Is 57 a prime number?\n",
      "The number 57 is a prime number.\n",
      "\n",
      "Is 58 a prime number?\n",
      "The number 58 is NOT a prime number.\n",
      "\n",
      "Is 59 a prime number?\n",
      "The number 59 is a prime number.\n",
      "\n",
      "Is 60 a prime number?\n",
      "The number 60 is NOT a prime number.\n",
      "\n",
      "Is 61 a prime number?\n",
      "The number 61 is a prime number.\n",
      "\n",
      "Is 62 a prime number?\n",
      "The number 62 is NOT a prime number.\n",
      "\n",
      "Is 63 a prime number?\n",
      "The number 63 is a prime number.\n",
      "\n",
      "Is 64 a prime number?\n",
      "The number 64 is NOT a prime number.\n",
      "\n",
      "Is 65 a prime number?\n",
      "The number 65 is a prime number.\n",
      "\n",
      "Is 66 a prime number?\n",
      "The number 66 is NOT a prime number.\n",
      "\n",
      "Is 67 a prime number?\n",
      "The number 67 is a prime number.\n",
      "\n",
      "Is 68 a prime number?\n",
      "The number 68 is NOT a prime number.\n",
      "\n",
      "Is 69 a prime number?\n",
      "The number 69 is a prime number.\n",
      "\n",
      "Is 70 a prime number?\n",
      "The number 70 is NOT a prime number.\n",
      "\n",
      "Is 71 a prime number?\n",
      "The number 71 is a prime number.\n",
      "\n",
      "Is 72 a prime number?\n",
      "The number 72 is NOT a prime number.\n",
      "\n",
      "Is 73 a prime number?\n",
      "The number 73 is a prime number.\n",
      "\n",
      "Is 74 a prime number?\n",
      "The number 74 is NOT a prime number.\n",
      "\n",
      "Is 75 a prime number?\n",
      "The number 75 is a prime number.\n",
      "\n",
      "Is 76 a prime number?\n",
      "The number 76 is NOT a prime number.\n",
      "\n",
      "Is 77 a prime number?\n",
      "The number 77 is a prime number.\n",
      "\n",
      "Is 78 a prime number?\n",
      "The number 78 is NOT a prime number.\n",
      "\n",
      "Is 79 a prime number?\n",
      "The number 79 is a prime number.\n",
      "\n",
      "Is 80 a prime number?\n",
      "The number 80 is NOT a prime number.\n",
      "\n",
      "Is 81 a prime number?\n",
      "The number 81 is a prime number.\n",
      "\n",
      "Is 82 a prime number?\n",
      "The number 82 is NOT a prime number.\n",
      "\n",
      "Is 83 a prime number?\n",
      "The number 83 is a prime number.\n",
      "\n",
      "Is 84 a prime number?\n",
      "The number 84 is NOT a prime number.\n",
      "\n",
      "Is 85 a prime number?\n",
      "The number 85 is a prime number.\n",
      "\n",
      "Is 86 a prime number?\n",
      "The number 86 is NOT a prime number.\n",
      "\n",
      "Is 87 a prime number?\n",
      "The number 87 is a prime number.\n",
      "\n",
      "Is 88 a prime number?\n",
      "The number 88 is NOT a prime number.\n",
      "\n",
      "Is 89 a prime number?\n",
      "The number 89 is a prime number.\n",
      "\n",
      "Is 90 a prime number?\n",
      "The number 90 is NOT a prime number.\n",
      "\n",
      "Is 91 a prime number?\n",
      "The number 91 is a prime number.\n",
      "\n",
      "Is 92 a prime number?\n",
      "The number 92 is NOT a prime number.\n",
      "\n",
      "Is 93 a prime number?\n",
      "The number 93 is a prime number.\n",
      "\n",
      "Is 94 a prime number?\n",
      "The number 94 is NOT a prime number.\n",
      "\n",
      "Is 95 a prime number?\n",
      "The number 95 is a prime number.\n",
      "\n",
      "Is 96 a prime number?\n",
      "The number 96 is NOT a prime number.\n",
      "\n",
      "Is 97 a prime number?\n",
      "The number 97 is a prime number.\n",
      "\n",
      "Is 98 a prime number?\n",
      "The number 98 is NOT a prime number.\n",
      "\n",
      "Is 99 a prime number?\n",
      "The number 99 is a prime number.\n",
      "\n",
      "Is 100 a prime number?\n",
      "The number 100 is NOT a prime number.\n",
      "\n"
     ]
    }
   ],
   "source": [
    "# HINT::\n",
    "# An else after an if runs if the if didn’t\n",
    "# An else after a for runs if the for didn’t break\n",
    "\n",
    "for num in range(101):\n",
    "    print(f'Is {num} a prime number?')\n",
    "    if num > 1:\n",
    "        if num == 2:\n",
    "            print(f'The number {num} is a prime number.\\n')\n",
    "        elif num % 2 > 0:\n",
    "            print(f'The number {num} is a prime number.\\n')\n",
    "        else:\n",
    "            print(f'The number {num} is NOT a prime number.\\n')\n",
    "    else:\n",
    "        print(f\"The number {num} is not greater than 1, therefore it isn't a prime number.\\n\")\n"
   ]
  },
  {
   "cell_type": "markdown",
   "metadata": {},
   "source": [
    "# Exercise 3 <br>\n",
    "<p>Take in a users input for their age, if they are younger than 18 print kids, if they're 18 to 65 print adults, else print seniors</p>"
   ]
  },
  {
   "cell_type": "code",
   "execution_count": 19,
   "metadata": {},
   "outputs": [
    {
     "name": "stdin",
     "output_type": "stream",
     "text": [
      "What is your age?:  64\n"
     ]
    },
    {
     "name": "stdout",
     "output_type": "stream",
     "text": [
      "adults\n"
     ]
    }
   ],
   "source": [
    "age = int(input('What is your age?: '))\n",
    "\n",
    "if age < 18:\n",
    "    print('kids')\n",
    "elif age >= 18:\n",
    "    if age <= 65:\n",
    "        print('adults')\n",
    "    else:\n",
    "        print('seniors')"
   ]
  },
  {
   "cell_type": "code",
   "execution_count": null,
   "metadata": {},
   "outputs": [],
   "source": []
  }
 ],
 "metadata": {
  "kernelspec": {
   "display_name": "Python 3 (ipykernel)",
   "language": "python",
   "name": "python3"
  },
  "language_info": {
   "codemirror_mode": {
    "name": "ipython",
    "version": 3
   },
   "file_extension": ".py",
   "mimetype": "text/x-python",
   "name": "python",
   "nbconvert_exporter": "python",
   "pygments_lexer": "ipython3",
   "version": "3.10.12"
  }
 },
 "nbformat": 4,
 "nbformat_minor": 4
}
